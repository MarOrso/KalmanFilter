{
 "cells": [
  {
   "cell_type": "code",
   "execution_count": null,
   "metadata": {},
   "outputs": [],
   "source": [
    "import numpy as np  \n",
    "from poliastro.bodies import Moon \n",
    "from poliastro.twobody.orbit import Orbit\n",
    "from poliastro.bodies import Moon \n",
    "from astropy import units as u\n",
    "from poliastro.core.angles import nu_to_E, E_to_M\n",
    "import sympy as sym\n",
    "\n",
    "global MU\n",
    "\n",
    "MU = Moon.k.to(u.km**3/u.s**2)\n",
    "MU = MU.to_value()\n",
    "\n",
    "\n",
    "def phi_motion(xx,yy,zz, as_numpy=True):\n",
    "     x, y, z = sym.symbols('x,y,z')              # componenti posizione (vettore r)\n",
    "     mi = sym.symbols(r'\\mu')             \n",
    "     r = sym.sqrt(x**2 + y**2 + z**2)\n",
    "\n",
    "     f00 = ((3*mi*(x**2))/(r**5)) - mi/(r**3)\n",
    "     f01 = (3*mi*x*y)/(r**5)\n",
    "     f02 = (3*mi*x*z)/(r**5) \n",
    "\n",
    "     f10 = (3*mi*y*x)/(r**5)\n",
    "     f11 = ((3*mi*(y**2))/(r**5)) - mi/(r**3) \n",
    "     f12 = (3*mi*y*z)/(r**5) \n",
    "\n",
    "     f20 = (3*mi*x*z)/(r**5)\n",
    "     f21 = (3*mi*z*y)/(r**5) \n",
    "     f22 = ((3*mi*(z**2))/(r**5)) - mi/(r**3) \n",
    "     motion = sym.Matrix(([f00, f01, f02], [f10, f11, f12], [f20, f21, f22]))\n",
    "\n",
    "     phi = sym.Matrix([[sym.zeros(3,3),sym.eye(3,3)], [motion, sym.zeros(3,3)]])\n",
    "     phi = phi.subs(x,xx).subs(y,yy).subs(z,zz).subs(mi,MU)\n",
    "     phi = phi.evalf(maxn=300)\n",
    "     if as_numpy:\n",
    "          phi = np.array(phi).astype(np.float64)\n",
    "     return phi\n"
   ]
  },
  {
   "cell_type": "code",
   "execution_count": null,
   "metadata": {},
   "outputs": [],
   "source": [
    "phi=phi_motion(180,-1780, 0)"
   ]
  },
  {
   "cell_type": "code",
   "execution_count": null,
   "metadata": {},
   "outputs": [],
   "source": [
    "import sympy as sym"
   ]
  },
  {
   "cell_type": "code",
   "execution_count": null,
   "metadata": {},
   "outputs": [],
   "source": [
    "sym.symbols('omega')"
   ]
  },
  {
   "cell_type": "code",
   "execution_count": null,
   "metadata": {},
   "outputs": [],
   "source": []
  },
  {
   "cell_type": "code",
   "execution_count": null,
   "metadata": {},
   "outputs": [],
   "source": []
  },
  {
   "cell_type": "code",
   "execution_count": null,
   "metadata": {},
   "outputs": [],
   "source": []
  },
  {
   "cell_type": "code",
   "execution_count": 12,
   "metadata": {},
   "outputs": [],
   "source": [
    "from Filters.kalman import KalmanFilter\n",
    "import pandas as pd\n",
    "import matplotlib.pyplot as plt\n",
    "from tqdm import tqdm\n",
    "import seaborn as sns\n",
    "from Filters.STM import Keplerian\n",
    "\n",
    "# DB = pd.read_csv(\"orbite/lunar_crater_database_robbins_2018.csv\")\n",
    "# Init:\n",
    "df_pos = pd.read_csv('orbite/Position_Fixed.csv')\n",
    "time = df_pos['Time (UTCG)']\n",
    "real_X, real_Y, real_Z = df_pos['x (km)'].to_numpy(), df_pos['y (km)'].to_numpy(), df_pos['z (km)'].to_numpy()\n",
    "#Quaternione e velocita' angolare \n",
    "dq = pd.read_csv(\"orbite/Attitude_Quaternions_Fixed.csv\")  \n",
    "real_q1, real_q2, real_q3, real_q4 = dq['q1'].to_numpy(), dq['q2'].to_numpy(), dq['q3'].to_numpy(), dq['q4'].to_numpy()\n",
    "real_om1, real_om2, real_om3 = dq['wx (deg/sec)'].to_numpy(), dq['wy (deg/sec)'].to_numpy(), dq['wz (deg/sec)'].to_numpy()\n",
    "#Velocita'\n",
    "dvf = pd.read_csv(\"orbite/Velocity_Fixed.csv\") \n",
    "real_Vxs, real_Vys, real_Vzs = dvf['vx (km/sec)'].to_numpy(), dvf['vy (km/sec)'].to_numpy(),dvf['vz (km/sec)'].to_numpy()\n",
    "skip=0\n",
    "position = [real_X[0+skip],real_Y[0+skip],real_Z[0+skip]]\n",
    "velocity = [real_Vxs[0+skip], real_Vys[0+skip], real_Vzs[0+skip]]\n",
    "attitude = [real_q1[0+skip], real_q2[0+skip], real_q3[0+skip], real_q4[0+skip]]\n",
    "rotation = [real_om1[0+skip], real_om2[0+skip], real_om3[0+skip]]\n",
    "velocity = [-x for x in velocity]"
   ]
  },
  {
   "cell_type": "code",
   "execution_count": 2,
   "metadata": {},
   "outputs": [
    {
     "data": {
      "text/plain": [
       "array([[1.00000000000000, 0, 0, 15.0000000000000, 0, 0, 0.0, 0.0, 0.0,\n",
       "        0.0, 0.0, 0.0],\n",
       "       [0, 1.00000000000000, 0, 0, 15.0000000000000, 0, 0.0, 0.0, 0.0,\n",
       "        0.0, 0.0, 0.0],\n",
       "       [0, 0, 1.00000000000000, 0, 0, 15.0000000000000, 0.0, 0.0, 0.0,\n",
       "        0.0, 0.0, 0.0],\n",
       "       [-8.48399456663518e-6, -1.61580681440992e-6, 0, 1.00000000000000,\n",
       "        0, 0, 0.0, 0.0, 0.0, 0.0, 0.0, 0.0],\n",
       "       [-1.61580681440992e-6, 1.70697758083938e-5, 0, 0,\n",
       "        1.00000000000000, 0, 0.0, 0.0, 0.0, 0.0, 0.0, 0.0],\n",
       "       [0, 0, -8.58575938824356e-6, 0, 0, 1.00000000000000, 0.0, 0.0,\n",
       "        0.0, 0.0, 0.0, 0.0],\n",
       "       [0.0, 0.0, 0.0, 0.0, 0.0, 0.0, 1.00000000000000,\n",
       "        -2.49999687500000e-5, 0.268418865405000, 1.33147231753125,\n",
       "        -2.75955836382000, -2.70209864073875],\n",
       "       [0.0, 0.0, 0.0, 0.0, 0.0, 0.0, 0.313100745203619,\n",
       "        0.342234994763699, 0.723411972869111, 3.85256163618000,\n",
       "        1.33147231753125, -1.35197232634875],\n",
       "       [0.0, 0.0, 0.0, 0.0, 0.0, 0.0, -0.261372808507811,\n",
       "        -6.42621491111697e-5, 1.00006596442276, 3.73943135926125,\n",
       "        1.56463767365125, 1.33147231753125],\n",
       "       [0.0, 0.0, 0.0, 0.0, 0.0, 0.0, 0, 0, 0, 1.00000000000000,\n",
       "        -4.99999875000000e-6, -0.0528416453838000],\n",
       "       [0.0, 0.0, 0.0, 0.0, 0.0, 0.0, 0, 0, 0, 3.25000528125000e-5,\n",
       "        1.00000000000000, 0],\n",
       "       [0.0, 0.0, 0.0, 0.0, 0.0, 0.0, 0, 0, 0, -0.306802262415225, 0,\n",
       "        1.00000000000000]], dtype=object)"
      ]
     },
     "execution_count": 2,
     "metadata": {},
     "output_type": "execute_result"
    }
   ],
   "source": [
    "F = Keplerian(position, velocity, attitude, rotation, dt=10, as_numpy=False)\n",
    "F"
   ]
  },
  {
   "cell_type": "code",
   "execution_count": 13,
   "metadata": {},
   "outputs": [],
   "source": [
    "import sympy as sym  \n",
    "q1,q2,q3,q4 = sym.symbols('q_1,q_2,q_3,q_4')\n",
    "unitariety = sym.Eq(sym.sqrt(q1*q1+q2*q2+q3*q3+q4*q4),1)\n",
    "solutions = sym.solve(unitariety, q4)\n",
    "s1,s2 = solutions"
   ]
  },
  {
   "cell_type": "code",
   "execution_count": 19,
   "metadata": {},
   "outputs": [
    {
     "data": {
      "text/plain": [
       "[-sqrt(-q_1**2 - q_2**2 - q_3**2 + 1), sqrt(-q_1**2 - q_2**2 - q_3**2 + 1)]"
      ]
     },
     "execution_count": 19,
     "metadata": {},
     "output_type": "execute_result"
    }
   ],
   "source": [
    "solutions"
   ]
  },
  {
   "cell_type": "code",
   "execution_count": 15,
   "metadata": {},
   "outputs": [
    {
     "data": {
      "text/latex": [
       "$\\displaystyle -0.25059821373266$"
      ],
      "text/plain": [
       "-0.250598213732660"
      ]
     },
     "execution_count": 15,
     "metadata": {},
     "output_type": "execute_result"
    }
   ],
   "source": [
    "s1.subs(q1,real_q1[0]).subs(q2,real_q2[0]).subs(q3,real_q3[0])"
   ]
  },
  {
   "cell_type": "code",
   "execution_count": 16,
   "metadata": {},
   "outputs": [
    {
     "data": {
      "text/latex": [
       "$\\displaystyle 0.25059821373266$"
      ],
      "text/plain": [
       "0.250598213732660"
      ]
     },
     "execution_count": 16,
     "metadata": {},
     "output_type": "execute_result"
    }
   ],
   "source": [
    "s2.subs(q1,real_q1[0]).subs(q2,real_q2[0]).subs(q3,real_q3[0])"
   ]
  },
  {
   "cell_type": "code",
   "execution_count": 17,
   "metadata": {},
   "outputs": [
    {
     "data": {
      "text/plain": [
       "0.250595"
      ]
     },
     "execution_count": 17,
     "metadata": {},
     "output_type": "execute_result"
    }
   ],
   "source": [
    "real_q4[0]"
   ]
  }
 ],
 "metadata": {
  "kernelspec": {
   "display_name": "Python 3.8.13 ('kalman')",
   "language": "python",
   "name": "python3"
  },
  "language_info": {
   "codemirror_mode": {
    "name": "ipython",
    "version": 3
   },
   "file_extension": ".py",
   "mimetype": "text/x-python",
   "name": "python",
   "nbconvert_exporter": "python",
   "pygments_lexer": "ipython3",
   "version": "3.8.13"
  },
  "orig_nbformat": 4,
  "vscode": {
   "interpreter": {
    "hash": "19d1fa4924f4525b125b6f4a8eb3a5e1654a55efa9eb21b3cae40cdd6edccfec"
   }
  }
 },
 "nbformat": 4,
 "nbformat_minor": 2
}
